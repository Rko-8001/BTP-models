{
 "cells": [
  {
   "cell_type": "code",
   "execution_count": 1,
   "id": "828daefb-98f5-4035-9ce0-f3f299c270d8",
   "metadata": {},
   "outputs": [
    {
     "name": "stderr",
     "output_type": "stream",
     "text": [
      "2023-10-03 13:39:35.975960: I tensorflow/tsl/cuda/cudart_stub.cc:28] Could not find cuda drivers on your machine, GPU will not be used.\n",
      "2023-10-03 13:39:36.009325: I tensorflow/tsl/cuda/cudart_stub.cc:28] Could not find cuda drivers on your machine, GPU will not be used.\n",
      "2023-10-03 13:39:36.010934: I tensorflow/core/platform/cpu_feature_guard.cc:182] This TensorFlow binary is optimized to use available CPU instructions in performance-critical operations.\n",
      "To enable the following instructions: AVX2 FMA, in other operations, rebuild TensorFlow with the appropriate compiler flags.\n",
      "2023-10-03 13:39:36.653770: W tensorflow/compiler/tf2tensorrt/utils/py_utils.cc:38] TF-TRT Warning: Could not find TensorRT\n"
     ]
    }
   ],
   "source": [
    "import tensorflow as tf\n",
    "from tensorflow.keras.preprocessing import image"
   ]
  },
  {
   "cell_type": "code",
   "execution_count": 2,
   "id": "a18a07be-8cc6-432c-9a73-a7bf0f1a77ac",
   "metadata": {},
   "outputs": [],
   "source": [
    "# import picamera\n",
    "# from picamera import PiCamera\n",
    "# from PIL import Image"
   ]
  },
  {
   "cell_type": "code",
   "execution_count": 3,
   "id": "e26de8cd-a600-401d-99e1-834ec7e43248",
   "metadata": {},
   "outputs": [],
   "source": [
    "import numpy as np\n",
    "import time"
   ]
  },
  {
   "cell_type": "code",
   "execution_count": 4,
   "id": "fbef4ecb-8f39-43b1-a7e4-6aaf50d0294d",
   "metadata": {},
   "outputs": [],
   "source": [
    "# def predict_apple_variety(image_path, model_path='color_model.h5'):\n",
    "    # Load the saved model\n",
    "    model = tf.keras.models.load_model(model_path)\n",
    "\n",
    "    # Define image dimensions (should match the model's input size)\n",
    "    image_height = 150\n",
    "    image_width = 150\n",
    "\n",
    "    # Load and preprocess the input image\n",
    "    img = image.load_img(image_path, target_size=(image_height, image_width))\n",
    "    img_array = image.img_to_array(img)\n",
    "    img_array = np.expand_dims(img_array, axis=0)\n",
    "    img_array /= 255.0  # Rescale pixel values to [0, 1]\n",
    "\n",
    "    # Make predictions\n",
    "    predictions = model.predict(img_array)\n",
    "\n",
    "    # Get the predicted class label\n",
    "    predicted_class_index = np.argmax(predictions)\n",
    "    # Map the index to the corresponding apple variety class\n",
    "    apple_variety_classes = [\n",
    "        'Apple Dark Red'  'Apple Green'  'Apple Red'  'Apple Red Yellow'\n",
    "    ]\n",
    "    predicted_apple_variety = apple_variety_classes[predicted_class_index]\n",
    "\n",
    "    return predicted_apple_variety\n"
   ]
  },
  {
   "cell_type": "code",
   "execution_count": 5,
   "id": "5accdeb9-28e3-46f9-a8dc-4fa5ccf929e5",
   "metadata": {},
   "outputs": [],
   "source": [
    "def capture_and_predict_apple_variety(image_file_path):\n",
    "    # Initialize the PiCamera\n",
    "    camera = PiCamera()\n",
    "\n",
    "    try:\n",
    "        # Capture an image and save it\n",
    "        camera.start_preview()\n",
    "        time.sleep(2)  # Allow time for the camera to adjust\n",
    "        camera.capture(image_file_path)\n",
    "\n",
    "        # Close the camera\n",
    "        camera.stop_preview()\n",
    "\n",
    "        # Call the predict_apple_variety function to predict the apple variety\n",
    "        predicted_variety = predict_apple_variety(image_file_path)\n",
    "\n",
    "        return predicted_variety\n",
    "\n",
    "    finally:\n",
    "        # Close the camera to release resources\n",
    "        camera.close()"
   ]
  },
  {
   "cell_type": "code",
   "execution_count": 7,
   "id": "a3d6ba95-4f86-487a-b8ef-bd0796150218",
   "metadata": {},
   "outputs": [
    {
     "name": "stderr",
     "output_type": "stream",
     "text": [
      "2023-10-03 13:40:09.938571: W tensorflow/tsl/framework/cpu_allocator_impl.cc:83] Allocation of 75759616 exceeds 10% of free system memory.\n",
      "2023-10-03 13:40:10.035621: W tensorflow/tsl/framework/cpu_allocator_impl.cc:83] Allocation of 75759616 exceeds 10% of free system memory.\n",
      "2023-10-03 13:40:10.056766: W tensorflow/tsl/framework/cpu_allocator_impl.cc:83] Allocation of 75759616 exceeds 10% of free system memory.\n",
      "2023-10-03 13:40:10.512692: W tensorflow/tsl/framework/cpu_allocator_impl.cc:83] Allocation of 75759616 exceeds 10% of free system memory.\n",
      "2023-10-03 13:40:10.562352: W tensorflow/tsl/framework/cpu_allocator_impl.cc:83] Allocation of 75759616 exceeds 10% of free system memory.\n"
     ]
    },
    {
     "name": "stdout",
     "output_type": "stream",
     "text": [
      "1/1 [==============================] - 0s 262ms/step\n",
      "Predicted Apple Variety: Apple Braeburn\n"
     ]
    }
   ],
   "source": [
    "def main():\n",
    "    # Specify the path to save the captured image\n",
    "    image_file_path = '3_100.jpg'\n",
    "\n",
    "    # Capture an image and predict the apple variety\n",
    "    # predicted_variety = capture_and_predict_apple_variety(image_file_path)\n",
    "    predicted_variety = predict_apple_variety(image_file_path)\n",
    "\n",
    "    # Print the predicted apple variety\n",
    "    print(\"Predicted Apple Variety:\", predicted_variety)\n",
    "\n",
    "if __name__ == \"__main__\":\n",
    "    main()"
   ]
  }
 ],
 "metadata": {
  "kernelspec": {
   "display_name": "Python 3 (ipykernel)",
   "language": "python",
   "name": "python3"
  },
  "language_info": {
   "codemirror_mode": {
    "name": "ipython",
    "version": 3
   },
   "file_extension": ".py",
   "mimetype": "text/x-python",
   "name": "python",
   "nbconvert_exporter": "python",
   "pygments_lexer": "ipython3",
   "version": "3.10.12"
  }
 },
 "nbformat": 4,
 "nbformat_minor": 5
}
