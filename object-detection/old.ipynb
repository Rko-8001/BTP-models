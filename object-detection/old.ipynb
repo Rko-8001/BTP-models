{
 "cells": [
  {
   "cell_type": "code",
   "execution_count": 27,
   "id": "592117d0-01c5-4a9a-a5c7-80664fea3640",
   "metadata": {},
   "outputs": [],
   "source": [
    "import cv2"
   ]
  },
  {
   "cell_type": "code",
   "execution_count": 29,
   "id": "efef629c-cda1-48d0-bdb9-42504b129566",
   "metadata": {},
   "outputs": [],
   "source": [
    "def object_detection(cap):\n",
    "    \n",
    "    while True:\n",
    "        ret, frame = cap.read()\n",
    "        gray = cv2.cvtColor(frame, cv2.COLOR_BGR2GRAY)\n",
    "\n",
    "        # Apply GaussianBlur to reduce noise and improve contour detection\n",
    "        blurred = cv2.GaussianBlur(gray, (5, 5), 0)\n",
    "\n",
    "        # Use Canny edge detection to find edges\n",
    "        edges = cv2.Canny(blurred, 50, 150)\n",
    "\n",
    "        # Find contours\n",
    "        contours, _ = cv2.findContours(edges, cv2.RETR_EXTERNAL, cv2.CHAIN_APPROX_SIMPLE)\n",
    "        for contour in contours:\n",
    "            # Filter contours based on size\n",
    "            if cv2.contourArea(contour) > 1000:\n",
    "                # Check if the contour is in the middle of the image\n",
    "                x, y, w, h = cv2.boundingRect(contour)\n",
    "                middle_x = x + w // 2\n",
    "                middle_y = y + h // 2\n",
    "                # print(x , y, w,h)\n",
    "                cv2.rectangle(frame, (x, y), (x + w, y + h), (0, 255, 0), 2) \n",
    "                # 320 240 \n",
    "                if x >= 180 and x + w <= 460:\n",
    "                    cv2.imwrite(f\"fruit_image_{x}.jpg\", frame)\n",
    "                    # cv2.waitKey(100)\n",
    "    \n",
    "        cv2.imshow('Conveyor Belt', frame)\n",
    "        # Break the loop if 'q' key is pressed\n",
    "        if cv2.waitKey(1) & 0xFF == ord('q'):\n",
    "            break"
   ]
  },
  {
   "cell_type": "code",
   "execution_count": 30,
   "id": "4cf5e344-c19f-4a60-af22-e289de3ec020",
   "metadata": {},
   "outputs": [],
   "source": [
    "def onlyon(cap):\n",
    "    while True:\n",
    "        ret, frame = cap.read()\n",
    "        cv2.circle(frame, (frame.shape[1] // 2, frame.shape[0] // 2), 10, (255, 0, 0), -1)\n",
    "        cv2.imshow('Conveyor Belt', frame)\n",
    "        # Break the loop if 'q' key is pressed\n",
    "        if cv2.waitKey(1) & 0xFF == ord('q'):\n",
    "            break"
   ]
  },
  {
   "cell_type": "code",
   "execution_count": 31,
   "id": "1ad8825a-2e25-4052-8bcc-84fcd3591eec",
   "metadata": {},
   "outputs": [],
   "source": [
    "def main():\n",
    "    cap = cv2.VideoCapture(2)\n",
    "    if not cap.isOpened():\n",
    "        print(\"Error: Could not open the camera.\")\n",
    "        return\n",
    "    object_detection(cap)\n",
    "    # onlyon(cap)\n",
    "    # Release the camera and close the OpenCV window\n",
    "    cap.release()\n",
    "    cv2.destroyAllWindows()\n",
    "\n"
   ]
  },
  {
   "cell_type": "code",
   "execution_count": 33,
   "id": "7d3bf60a-d051-4488-a73c-99ed8a58b1db",
   "metadata": {},
   "outputs": [],
   "source": [
    "if __name__ == \"__main__\":\n",
    "    main()     "
   ]
  },
  {
   "cell_type": "code",
   "execution_count": null,
   "id": "fa0e3f95-dc74-48b2-9361-866862ae6602",
   "metadata": {},
   "outputs": [],
   "source": []
  }
 ],
 "metadata": {
  "kernelspec": {
   "display_name": "Python 3 (ipykernel)",
   "language": "python",
   "name": "python3"
  },
  "language_info": {
   "codemirror_mode": {
    "name": "ipython",
    "version": 3
   },
   "file_extension": ".py",
   "mimetype": "text/x-python",
   "name": "python",
   "nbconvert_exporter": "python",
   "pygments_lexer": "ipython3",
   "version": "3.10.12"
  }
 },
 "nbformat": 4,
 "nbformat_minor": 5
}
