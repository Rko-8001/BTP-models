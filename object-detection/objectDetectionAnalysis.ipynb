{
 "cells": [
  {
   "cell_type": "code",
   "execution_count": 16,
   "metadata": {},
   "outputs": [],
   "source": [
    "import cv2\n",
    "import numpy as np\n",
    "import os"
   ]
  },
  {
   "cell_type": "code",
   "execution_count": 17,
   "metadata": {},
   "outputs": [],
   "source": [
    "yoloCfg = \"/home/rko8001/Downloads/BTP/btp-models/object-detection/yolov3-tiny.cfg\"\n",
    "yoloWeights = \"/home/rko8001/Downloads/BTP/btp-models/object-detection/yolov3-tiny.weights\"\n",
    "coco_names = \"/home/rko8001/Downloads/BTP/btp-models/object-detection/coco.names\"\n",
    "'''\n",
    "    For Object detection, we have taken a threshold of 5 frames. \n",
    "    If the object is detected once, then next 'x' consecutive frames will not be predicted\n",
    "    due to multiple predictions on same apple.\n",
    "'''\n",
    "framesToSkip = 5\n",
    "\n",
    "''' \n",
    "    Width Threshold, if apple is present in between this threshold\n",
    "    then it will be marked as detected\n",
    "'''\n",
    "widthBegin, widthEnd = 300, 320\n",
    "\n",
    "\n",
    "'''\n",
    "    While object detection, we have taken a confidence threshold of 0.4\n",
    "    with this confidence, we are able to detect the object with good accuracy and speed\n",
    "'''\n",
    "confidenceInterval = 0.4"
   ]
  },
  {
   "cell_type": "code",
   "execution_count": 18,
   "metadata": {},
   "outputs": [],
   "source": [
    "net = cv2.dnn.readNet(yoloWeights, yoloCfg)\n",
    "\n",
    "classes = []\n",
    "with open(coco_names, \"r\") as f:\n",
    "    classes = [line.strip() for line in f.readlines()]\n",
    "\n",
    "layer_names = net.getUnconnectedOutLayersNames()"
   ]
  },
  {
   "cell_type": "code",
   "execution_count": 19,
   "metadata": {},
   "outputs": [],
   "source": [
    "def extractDimensions(detection, frame):\n",
    "    height, width, _ = frame.shape\n",
    "    center_x = int(detection[0] * width)\n",
    "    center_y = int(detection[1] * height)\n",
    "    w = int(detection[2] * width)\n",
    "    h = int(detection[3] * height)\n",
    "    x = int(center_x - w / 2)\n",
    "    y = int(center_y - h / 2)\n",
    "    return x, y, w, h, center_x, center_y"
   ]
  },
  {
   "cell_type": "code",
   "execution_count": 20,
   "metadata": {},
   "outputs": [],
   "source": [
    "def objectDetection(frame): \n",
    "    global confidenceInterval, widthBegin, widthEnd\n",
    "\n",
    "    inMiddle = False\n",
    "    blob = cv2.dnn.blobFromImage(frame, 0.00392, (416, 416), (0, 0, 0), True, crop=False)\n",
    "    net.setInput(blob)\n",
    "    outs = net.forward(layer_names)\n",
    "\n",
    "    # Process the outputs and draw bounding boxes\n",
    "    for out in outs:\n",
    "        for detection in out:\n",
    "            scores = detection[5:]\n",
    "            class_id = np.argmax(scores)\n",
    "            confidence = scores[class_id]\n",
    "\n",
    "            if confidence >= confidenceInterval:  # Adjust the confidence threshold as needed\n",
    "                x, y, w, h, center_x, center_y = extractDimensions(detection, frame)\n",
    "                cv2.rectangle(frame, (x, y), (x + w, y+h), (0, 255, 0), 2)\n",
    "\n",
    "                if (center_x >= widthBegin and center_x <= widthEnd): \n",
    "                    inMiddle = True\n",
    "                break\n",
    "\n",
    "    return frame, inMiddle"
   ]
  },
  {
   "cell_type": "code",
   "execution_count": 21,
   "metadata": {},
   "outputs": [],
   "source": [
    "def display_camera(camera):\n",
    "    global framesToSkip\n",
    "    sortCategory, prediction, previousFrame, skipFrame = \"color\", None, False, 0\n",
    "\n",
    "    while True:\n",
    "        success, frame = camera.read()\n",
    "        previousFrame = frame\n",
    "        if not success:\n",
    "            break\n",
    "\n",
    "        newFrame, objectDetected = objectDetection(frame)\n",
    "\n",
    "        if skipFrame == 0:\n",
    "            if objectDetected == True:\n",
    "                # do the prediction\n",
    "                skipFrame += 1\n",
    "        else: \n",
    "            skipFrame = (skipFrame + 1) % (framesToSkip + 1 )\n",
    "\n",
    "        cv2.imshow(\"Object Detection\", newFrame)\n",
    "\n",
    "    camera.release()\n",
    "    cv2.destroyAllWindows()\n"
   ]
  },
  {
   "cell_type": "code",
   "execution_count": 22,
   "metadata": {},
   "outputs": [],
   "source": [
    "def display_camera_analysis(video_file, output_file):\n",
    "    global framesToSkip\n",
    "    sortCategory, prediction, previousFrame, skipFrame = \"color\", None, False, 0\n",
    "\n",
    "    # Open the video file\n",
    "    video = cv2.VideoCapture(video_file)\n",
    "\n",
    "    # Get video properties\n",
    "    fps = int(video.get(cv2.CAP_PROP_FPS))\n",
    "    width = int(video.get(cv2.CAP_PROP_FRAME_WIDTH))\n",
    "    height = int(video.get(cv2.CAP_PROP_FRAME_HEIGHT))\n",
    "\n",
    "    print(f\"Specs of Video =  FPS: {fps}, Width: {width}, Height: {height}\")\n",
    "    # Define the codec and create VideoWriter object\n",
    "    fourcc = cv2.VideoWriter_fourcc(*'XVID')\n",
    "    out = cv2.VideoWriter(output_file, fourcc, fps, (width, height))\n",
    "\n",
    "    while True:\n",
    "        success, frame = video.read()\n",
    "        previousFrame = frame\n",
    "        if not success:\n",
    "            break\n",
    "\n",
    "        newFrame, objectDetected = objectDetection(frame)\n",
    "\n",
    "        if skipFrame == 0:\n",
    "            if objectDetected:\n",
    "                # do the prediction\n",
    "                skipFrame += 1\n",
    "        else:\n",
    "            skipFrame = (skipFrame + 1) % (framesToSkip + 1)\n",
    "\n",
    "        out.write(newFrame)\n",
    "        # cv2.imshow(\"Object Detection\", newFrame)\n",
    "        if cv2.waitKey(1) & 0xFF == ord('q'):\n",
    "            break\n",
    "\n",
    "    video.release()\n",
    "    out.release()\n",
    "    cv2.destroyAllWindows()\n"
   ]
  },
  {
   "cell_type": "code",
   "execution_count": 23,
   "metadata": {},
   "outputs": [],
   "source": [
    "def checkFrameSkipLogic(framesOutput):\n",
    "    global framesToSkip\n",
    "    skipFrame = 0\n",
    "    for i in range(len(framesOutput)):\n",
    "        objectDetected = framesOutput[i]\n",
    "\n",
    "        if skipFrame == 0:\n",
    "            if objectDetected == True:\n",
    "                print(\"Prediction at Frame: \", i)\n",
    "                skipFrame += 1\n",
    "        else: \n",
    "            skipFrame = (skipFrame + 1) % (framesToSkip + 1 )\n",
    "        "
   ]
  },
  {
   "cell_type": "code",
   "execution_count": 24,
   "metadata": {},
   "outputs": [],
   "source": [
    "def logicCheck():\n",
    "    framesOutput = [True, False, True, False, True, False, True, True, False, False, True, True, True]\n",
    "    checkFrameSkipLogic(framesOutput)"
   ]
  },
  {
   "cell_type": "code",
   "execution_count": 25,
   "metadata": {},
   "outputs": [],
   "source": [
    "def main():\n",
    "    camera = cv2.VideoCapture(2)\n",
    "    # Example usage\n",
    "    input_video = '../videos/6sec.mp4'\n",
    "    video_name = os.path.basename(input_video)    \n",
    "    output_video = f'./output/{video_name}.avi'\n",
    "    display_camera_analysis(input_video, output_video)"
   ]
  },
  {
   "cell_type": "code",
   "execution_count": 26,
   "metadata": {},
   "outputs": [
    {
     "name": "stderr",
     "output_type": "stream",
     "text": [
      "[ WARN:0@111.003] global cap_v4l.cpp:997 open VIDEOIO(V4L2:/dev/video2): can't open camera by index\n",
      "[ERROR:0@111.119] global obsensor_uvc_stream_channel.cpp:159 getStreamChannelGroup Camera index out of range\n"
     ]
    },
    {
     "name": "stdout",
     "output_type": "stream",
     "text": [
      "Specs of Video =  FPS: 30, Width: 1280, Height: 720\n"
     ]
    }
   ],
   "source": [
    "if __name__ == \"__main__\":\n",
    "    main()\n",
    "    # logicCheck()"
   ]
  }
 ],
 "metadata": {
  "kernelspec": {
   "display_name": "Python 3",
   "language": "python",
   "name": "python3"
  },
  "language_info": {
   "codemirror_mode": {
    "name": "ipython",
    "version": 3
   },
   "file_extension": ".py",
   "mimetype": "text/x-python",
   "name": "python",
   "nbconvert_exporter": "python",
   "pygments_lexer": "ipython3",
   "version": "3.10.12"
  }
 },
 "nbformat": 4,
 "nbformat_minor": 2
}
