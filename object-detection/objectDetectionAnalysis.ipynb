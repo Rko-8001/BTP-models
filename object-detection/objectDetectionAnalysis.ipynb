{
 "cells": [
  {
   "cell_type": "code",
   "execution_count": 21,
   "metadata": {},
   "outputs": [],
   "source": [
    "import cv2\n",
    "import numpy as np"
   ]
  },
  {
   "cell_type": "code",
   "execution_count": 22,
   "metadata": {},
   "outputs": [],
   "source": [
    "yoloCfg = \"/home/rko8001/Downloads/BTP/btp-models/object-detection/yolov3-tiny.cfg\"\n",
    "yoloWeights = \"/home/rko8001/Downloads/BTP/btp-models/object-detection/yolov3-tiny.weights\"\n",
    "coco_names = \"/home/rko8001/Downloads/BTP/btp-models/object-detection/coco.names\"\n",
    "'''\n",
    "    For Object detection, we have taken a threshold of 5 frames. \n",
    "    If the object is detected once, then next 'x' consecutive frames will not be predicted\n",
    "    due to multiple predictions on same apple.\n",
    "'''\n",
    "framesToSkip = 5\n",
    "\n",
    "''' \n",
    "    Width Threshold, if apple is present in between this threshold\n",
    "    then it will be marked as detected\n",
    "'''\n",
    "widthBegin, widthEnd = 300, 320\n",
    "\n",
    "\n",
    "'''\n",
    "    While object detection, we have taken a confidence threshold of 0.4\n",
    "    with this confidence, we are able to detect the object with good accuracy and speed\n",
    "'''\n",
    "confidenceInterval = 0.4"
   ]
  },
  {
   "cell_type": "code",
   "execution_count": 23,
   "metadata": {},
   "outputs": [],
   "source": [
    "net = cv2.dnn.readNet(yoloWeights, yoloCfg)\n",
    "\n",
    "classes = []\n",
    "with open(coco_names, \"r\") as f:\n",
    "    classes = [line.strip() for line in f.readlines()]\n",
    "\n",
    "layer_names = net.getUnconnectedOutLayersNames()"
   ]
  },
  {
   "cell_type": "code",
   "execution_count": 24,
   "metadata": {},
   "outputs": [],
   "source": [
    "def extractDimensions(detection, frame):\n",
    "    height, width, _ = frame.shape\n",
    "    center_x = int(detection[0] * width)\n",
    "    center_y = int(detection[1] * height)\n",
    "    w = int(detection[2] * width)\n",
    "    h = int(detection[3] * height)\n",
    "    x = int(center_x - w / 2)\n",
    "    y = int(center_y - h / 2)\n",
    "    return x, y, w, h, center_x, center_y"
   ]
  },
  {
   "cell_type": "code",
   "execution_count": 25,
   "metadata": {},
   "outputs": [],
   "source": [
    "def objectDetection(frame): \n",
    "    global confidenceInterval, widthBegin, widthEnd\n",
    "\n",
    "    inMiddle = False\n",
    "    blob = cv2.dnn.blobFromImage(frame, 0.00392, (416, 416), (0, 0, 0), True, crop=False)\n",
    "    net.setInput(blob)\n",
    "    outs = net.forward(layer_names)\n",
    "\n",
    "    # Process the outputs and draw bounding boxes\n",
    "    for out in outs:\n",
    "        for detection in out:\n",
    "            scores = detection[5:]\n",
    "            class_id = np.argmax(scores)\n",
    "            confidence = scores[class_id]\n",
    "\n",
    "            if confidence >= confidenceInterval:  # Adjust the confidence threshold as needed\n",
    "                x, y, w, h, center_x, center_y = extractDimensions(detection, frame)\n",
    "                cv2.rectangle(frame, (x, y), (x + w, y+h), (0, 255, 0), 2)\n",
    "\n",
    "                if (center_x >= widthBegin and center_x <= widthEnd): \n",
    "                    inMiddle = True\n",
    "                break\n",
    "\n",
    "    return frame, inMiddle"
   ]
  },
  {
   "cell_type": "code",
   "execution_count": 33,
   "metadata": {},
   "outputs": [],
   "source": [
    "def display_camera(camera):\n",
    "    global framesToSkip\n",
    "    sortCategory, prediction, previousFrame, skipFrame = \"color\", None, False, 0\n",
    "\n",
    "    while True:\n",
    "        success, frame = camera.read()\n",
    "        previousFrame = frame\n",
    "        if not success:\n",
    "            break\n",
    "\n",
    "        newFrame, objectDetected = objectDetection(frame)\n",
    "\n",
    "        if objectDetected == True and skipFrame == 0: \n",
    "            # prediction = predictor(frame, sortCategory)\n",
    "            print(\"aa\")\n",
    "        elif objectDetected == False:\n",
    "            skipFrame = 0\n",
    "        else:\n",
    "            skipFrame = (skipFrame + 1)% framesToSkip # no of frames to skip\n",
    "\n",
    "\n",
    "    camera.release()\n",
    "    cv2.destroyAllWindows()\n"
   ]
  },
  {
   "cell_type": "code",
   "execution_count": 35,
   "metadata": {},
   "outputs": [],
   "source": [
    "def checkFrameSkipLogic(framesOutput):\n",
    "    global framesToSkip\n",
    "    previousFrame, prediction, skipFrame = False, None, 0\n",
    "    for i in range(len(framesOutput)):\n",
    "        objectDetected = framesOutput[i]\n",
    "        print(objectDetected)\n",
    "\n",
    "        if objectDetected == True and skipFrame == 0: \n",
    "            print(\"Prediction on frame: \", i)\n",
    "        elif objectDetected == False:\n",
    "            skipFrame = 0\n",
    "        else:\n",
    "            skipFrame = (skipFrame + 1)% framesToSkip # no of frames to skip\n",
    "        "
   ]
  },
  {
   "cell_type": "code",
   "execution_count": 38,
   "metadata": {},
   "outputs": [],
   "source": [
    "def logicCheck():\n",
    "    framesOutput = [True, False, True, False, False, False, False, False, False, False]\n",
    "    checkFrameSkipLogic(framesOutput)"
   ]
  },
  {
   "cell_type": "code",
   "execution_count": 29,
   "metadata": {},
   "outputs": [],
   "source": [
    "def main():\n",
    "    camera = cv2.VideoCapture(2)\n",
    "    display_camera(camera)"
   ]
  },
  {
   "cell_type": "code",
   "execution_count": 39,
   "metadata": {},
   "outputs": [
    {
     "name": "stdout",
     "output_type": "stream",
     "text": [
      "True\n",
      "Prediction on frame:  0\n",
      "False\n",
      "True\n",
      "Prediction on frame:  2\n",
      "False\n",
      "False\n",
      "False\n",
      "False\n",
      "False\n",
      "False\n",
      "False\n"
     ]
    }
   ],
   "source": [
    "if __name__ == \"__main__\":\n",
    "    # main()\n",
    "    logicCheck()"
   ]
  }
 ],
 "metadata": {
  "kernelspec": {
   "display_name": "Python 3",
   "language": "python",
   "name": "python3"
  },
  "language_info": {
   "codemirror_mode": {
    "name": "ipython",
    "version": 3
   },
   "file_extension": ".py",
   "mimetype": "text/x-python",
   "name": "python",
   "nbconvert_exporter": "python",
   "pygments_lexer": "ipython3",
   "version": "3.10.12"
  }
 },
 "nbformat": 4,
 "nbformat_minor": 2
}
